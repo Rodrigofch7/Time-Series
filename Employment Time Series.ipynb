{
 "cells": [
  {
   "cell_type": "code",
   "execution_count": 83,
   "metadata": {},
   "outputs": [],
   "source": [
    "import pandas as pd\n",
    "import matplotlib.pyplot as plt\n",
    "from statsmodels.tsa.arima.model import ARIMA\n",
    "from pmdarima.arima import auto_arima"
   ]
  },
  {
   "cell_type": "code",
   "execution_count": 84,
   "metadata": {},
   "outputs": [],
   "source": [
    "df = pd.read_csv(\"D:/GitHub/us_employment.csv\")\n"
   ]
  },
  {
   "cell_type": "code",
   "execution_count": 85,
   "metadata": {},
   "outputs": [
    {
     "data": {
      "text/html": [
       "<div>\n",
       "<style scoped>\n",
       "    .dataframe tbody tr th:only-of-type {\n",
       "        vertical-align: middle;\n",
       "    }\n",
       "\n",
       "    .dataframe tbody tr th {\n",
       "        vertical-align: top;\n",
       "    }\n",
       "\n",
       "    .dataframe thead th {\n",
       "        text-align: right;\n",
       "    }\n",
       "</style>\n",
       "<table border=\"1\" class=\"dataframe\">\n",
       "  <thead>\n",
       "    <tr style=\"text-align: right;\">\n",
       "      <th></th>\n",
       "      <th>Unnamed: 0</th>\n",
       "      <th>Month</th>\n",
       "      <th>Series_ID</th>\n",
       "      <th>Title</th>\n",
       "      <th>Employed</th>\n",
       "    </tr>\n",
       "  </thead>\n",
       "  <tbody>\n",
       "    <tr>\n",
       "      <th>0</th>\n",
       "      <td>1</td>\n",
       "      <td>1939 jan</td>\n",
       "      <td>CEU0500000001</td>\n",
       "      <td>Total Private</td>\n",
       "      <td>25338.0</td>\n",
       "    </tr>\n",
       "    <tr>\n",
       "      <th>1</th>\n",
       "      <td>2</td>\n",
       "      <td>1939 fev</td>\n",
       "      <td>CEU0500000001</td>\n",
       "      <td>Total Private</td>\n",
       "      <td>25447.0</td>\n",
       "    </tr>\n",
       "    <tr>\n",
       "      <th>2</th>\n",
       "      <td>3</td>\n",
       "      <td>1939 mar</td>\n",
       "      <td>CEU0500000001</td>\n",
       "      <td>Total Private</td>\n",
       "      <td>25833.0</td>\n",
       "    </tr>\n",
       "    <tr>\n",
       "      <th>3</th>\n",
       "      <td>4</td>\n",
       "      <td>1939 abr</td>\n",
       "      <td>CEU0500000001</td>\n",
       "      <td>Total Private</td>\n",
       "      <td>25801.0</td>\n",
       "    </tr>\n",
       "    <tr>\n",
       "      <th>4</th>\n",
       "      <td>5</td>\n",
       "      <td>1939 mai</td>\n",
       "      <td>CEU0500000001</td>\n",
       "      <td>Total Private</td>\n",
       "      <td>26113.0</td>\n",
       "    </tr>\n",
       "    <tr>\n",
       "      <th>...</th>\n",
       "      <td>...</td>\n",
       "      <td>...</td>\n",
       "      <td>...</td>\n",
       "      <td>...</td>\n",
       "      <td>...</td>\n",
       "    </tr>\n",
       "    <tr>\n",
       "      <th>143407</th>\n",
       "      <td>143408</td>\n",
       "      <td>2019 mai</td>\n",
       "      <td>TEMPHELPN</td>\n",
       "      <td>All Employees, Temporary Help Services</td>\n",
       "      <td>3009.5</td>\n",
       "    </tr>\n",
       "    <tr>\n",
       "      <th>143408</th>\n",
       "      <td>143409</td>\n",
       "      <td>2019 jun</td>\n",
       "      <td>TEMPHELPN</td>\n",
       "      <td>All Employees, Temporary Help Services</td>\n",
       "      <td>3025.7</td>\n",
       "    </tr>\n",
       "    <tr>\n",
       "      <th>143409</th>\n",
       "      <td>143410</td>\n",
       "      <td>2019 jul</td>\n",
       "      <td>TEMPHELPN</td>\n",
       "      <td>All Employees, Temporary Help Services</td>\n",
       "      <td>2965.9</td>\n",
       "    </tr>\n",
       "    <tr>\n",
       "      <th>143410</th>\n",
       "      <td>143411</td>\n",
       "      <td>2019 ago</td>\n",
       "      <td>TEMPHELPN</td>\n",
       "      <td>All Employees, Temporary Help Services</td>\n",
       "      <td>3040.0</td>\n",
       "    </tr>\n",
       "    <tr>\n",
       "      <th>143411</th>\n",
       "      <td>143412</td>\n",
       "      <td>2019 set</td>\n",
       "      <td>TEMPHELPN</td>\n",
       "      <td>All Employees, Temporary Help Services</td>\n",
       "      <td>3109.2</td>\n",
       "    </tr>\n",
       "  </tbody>\n",
       "</table>\n",
       "<p>143412 rows × 5 columns</p>\n",
       "</div>"
      ],
      "text/plain": [
       "        Unnamed: 0     Month      Series_ID  \\\n",
       "0                1  1939 jan  CEU0500000001   \n",
       "1                2  1939 fev  CEU0500000001   \n",
       "2                3  1939 mar  CEU0500000001   \n",
       "3                4  1939 abr  CEU0500000001   \n",
       "4                5  1939 mai  CEU0500000001   \n",
       "...            ...       ...            ...   \n",
       "143407      143408  2019 mai      TEMPHELPN   \n",
       "143408      143409  2019 jun      TEMPHELPN   \n",
       "143409      143410  2019 jul      TEMPHELPN   \n",
       "143410      143411  2019 ago      TEMPHELPN   \n",
       "143411      143412  2019 set      TEMPHELPN   \n",
       "\n",
       "                                         Title  Employed  \n",
       "0                                Total Private   25338.0  \n",
       "1                                Total Private   25447.0  \n",
       "2                                Total Private   25833.0  \n",
       "3                                Total Private   25801.0  \n",
       "4                                Total Private   26113.0  \n",
       "...                                        ...       ...  \n",
       "143407  All Employees, Temporary Help Services    3009.5  \n",
       "143408  All Employees, Temporary Help Services    3025.7  \n",
       "143409  All Employees, Temporary Help Services    2965.9  \n",
       "143410  All Employees, Temporary Help Services    3040.0  \n",
       "143411  All Employees, Temporary Help Services    3109.2  \n",
       "\n",
       "[143412 rows x 5 columns]"
      ]
     },
     "execution_count": 85,
     "metadata": {},
     "output_type": "execute_result"
    }
   ],
   "source": [
    "df"
   ]
  },
  {
   "cell_type": "code",
   "execution_count": 86,
   "metadata": {},
   "outputs": [
    {
     "data": {
      "text/plain": [
       "Unnamed: 0      int64\n",
       "Month          object\n",
       "Series_ID      object\n",
       "Title          object\n",
       "Employed      float64\n",
       "dtype: object"
      ]
     },
     "execution_count": 86,
     "metadata": {},
     "output_type": "execute_result"
    }
   ],
   "source": [
    "df.dtypes"
   ]
  },
  {
   "cell_type": "code",
   "execution_count": 87,
   "metadata": {},
   "outputs": [],
   "source": [
    "# Split the \"Month\" column into \"Year\" and \"Month\" columns\n",
    "df[['Year', 'Month']] = df['Month'].str.split(' ', expand=True)\n",
    "\n"
   ]
  },
  {
   "cell_type": "code",
   "execution_count": 88,
   "metadata": {},
   "outputs": [
    {
     "data": {
      "text/html": [
       "<div>\n",
       "<style scoped>\n",
       "    .dataframe tbody tr th:only-of-type {\n",
       "        vertical-align: middle;\n",
       "    }\n",
       "\n",
       "    .dataframe tbody tr th {\n",
       "        vertical-align: top;\n",
       "    }\n",
       "\n",
       "    .dataframe thead th {\n",
       "        text-align: right;\n",
       "    }\n",
       "</style>\n",
       "<table border=\"1\" class=\"dataframe\">\n",
       "  <thead>\n",
       "    <tr style=\"text-align: right;\">\n",
       "      <th></th>\n",
       "      <th>Unnamed: 0</th>\n",
       "      <th>Month</th>\n",
       "      <th>Series_ID</th>\n",
       "      <th>Title</th>\n",
       "      <th>Employed</th>\n",
       "      <th>Year</th>\n",
       "    </tr>\n",
       "  </thead>\n",
       "  <tbody>\n",
       "    <tr>\n",
       "      <th>0</th>\n",
       "      <td>1</td>\n",
       "      <td>jan</td>\n",
       "      <td>CEU0500000001</td>\n",
       "      <td>Total Private</td>\n",
       "      <td>25338.0</td>\n",
       "      <td>1939</td>\n",
       "    </tr>\n",
       "    <tr>\n",
       "      <th>1</th>\n",
       "      <td>2</td>\n",
       "      <td>fev</td>\n",
       "      <td>CEU0500000001</td>\n",
       "      <td>Total Private</td>\n",
       "      <td>25447.0</td>\n",
       "      <td>1939</td>\n",
       "    </tr>\n",
       "    <tr>\n",
       "      <th>2</th>\n",
       "      <td>3</td>\n",
       "      <td>mar</td>\n",
       "      <td>CEU0500000001</td>\n",
       "      <td>Total Private</td>\n",
       "      <td>25833.0</td>\n",
       "      <td>1939</td>\n",
       "    </tr>\n",
       "    <tr>\n",
       "      <th>3</th>\n",
       "      <td>4</td>\n",
       "      <td>abr</td>\n",
       "      <td>CEU0500000001</td>\n",
       "      <td>Total Private</td>\n",
       "      <td>25801.0</td>\n",
       "      <td>1939</td>\n",
       "    </tr>\n",
       "    <tr>\n",
       "      <th>4</th>\n",
       "      <td>5</td>\n",
       "      <td>mai</td>\n",
       "      <td>CEU0500000001</td>\n",
       "      <td>Total Private</td>\n",
       "      <td>26113.0</td>\n",
       "      <td>1939</td>\n",
       "    </tr>\n",
       "    <tr>\n",
       "      <th>...</th>\n",
       "      <td>...</td>\n",
       "      <td>...</td>\n",
       "      <td>...</td>\n",
       "      <td>...</td>\n",
       "      <td>...</td>\n",
       "      <td>...</td>\n",
       "    </tr>\n",
       "    <tr>\n",
       "      <th>143407</th>\n",
       "      <td>143408</td>\n",
       "      <td>mai</td>\n",
       "      <td>TEMPHELPN</td>\n",
       "      <td>All Employees, Temporary Help Services</td>\n",
       "      <td>3009.5</td>\n",
       "      <td>2019</td>\n",
       "    </tr>\n",
       "    <tr>\n",
       "      <th>143408</th>\n",
       "      <td>143409</td>\n",
       "      <td>jun</td>\n",
       "      <td>TEMPHELPN</td>\n",
       "      <td>All Employees, Temporary Help Services</td>\n",
       "      <td>3025.7</td>\n",
       "      <td>2019</td>\n",
       "    </tr>\n",
       "    <tr>\n",
       "      <th>143409</th>\n",
       "      <td>143410</td>\n",
       "      <td>jul</td>\n",
       "      <td>TEMPHELPN</td>\n",
       "      <td>All Employees, Temporary Help Services</td>\n",
       "      <td>2965.9</td>\n",
       "      <td>2019</td>\n",
       "    </tr>\n",
       "    <tr>\n",
       "      <th>143410</th>\n",
       "      <td>143411</td>\n",
       "      <td>ago</td>\n",
       "      <td>TEMPHELPN</td>\n",
       "      <td>All Employees, Temporary Help Services</td>\n",
       "      <td>3040.0</td>\n",
       "      <td>2019</td>\n",
       "    </tr>\n",
       "    <tr>\n",
       "      <th>143411</th>\n",
       "      <td>143412</td>\n",
       "      <td>set</td>\n",
       "      <td>TEMPHELPN</td>\n",
       "      <td>All Employees, Temporary Help Services</td>\n",
       "      <td>3109.2</td>\n",
       "      <td>2019</td>\n",
       "    </tr>\n",
       "  </tbody>\n",
       "</table>\n",
       "<p>143412 rows × 6 columns</p>\n",
       "</div>"
      ],
      "text/plain": [
       "        Unnamed: 0 Month      Series_ID  \\\n",
       "0                1   jan  CEU0500000001   \n",
       "1                2   fev  CEU0500000001   \n",
       "2                3   mar  CEU0500000001   \n",
       "3                4   abr  CEU0500000001   \n",
       "4                5   mai  CEU0500000001   \n",
       "...            ...   ...            ...   \n",
       "143407      143408   mai      TEMPHELPN   \n",
       "143408      143409   jun      TEMPHELPN   \n",
       "143409      143410   jul      TEMPHELPN   \n",
       "143410      143411   ago      TEMPHELPN   \n",
       "143411      143412   set      TEMPHELPN   \n",
       "\n",
       "                                         Title  Employed  Year  \n",
       "0                                Total Private   25338.0  1939  \n",
       "1                                Total Private   25447.0  1939  \n",
       "2                                Total Private   25833.0  1939  \n",
       "3                                Total Private   25801.0  1939  \n",
       "4                                Total Private   26113.0  1939  \n",
       "...                                        ...       ...   ...  \n",
       "143407  All Employees, Temporary Help Services    3009.5  2019  \n",
       "143408  All Employees, Temporary Help Services    3025.7  2019  \n",
       "143409  All Employees, Temporary Help Services    2965.9  2019  \n",
       "143410  All Employees, Temporary Help Services    3040.0  2019  \n",
       "143411  All Employees, Temporary Help Services    3109.2  2019  \n",
       "\n",
       "[143412 rows x 6 columns]"
      ]
     },
     "execution_count": 88,
     "metadata": {},
     "output_type": "execute_result"
    }
   ],
   "source": [
    "df"
   ]
  },
  {
   "cell_type": "code",
   "execution_count": 89,
   "metadata": {},
   "outputs": [],
   "source": [
    "# Convert \"Year\" and \"Month\" columns to integers and strings, respectively\n",
    "df['Year'] = df['Year'].astype(int)\n",
    "df['Month'] = df['Month'].astype(str)"
   ]
  },
  {
   "cell_type": "code",
   "execution_count": 90,
   "metadata": {},
   "outputs": [],
   "source": [
    "# Map the month abbreviations to the corresponding numerical representation\n",
    "month_map = {\n",
    "    'jan': '01',\n",
    "    'fev': '02',\n",
    "    'mar': '03',\n",
    "    'abr': '04',\n",
    "    'mai': '05',\n",
    "    'jun': '06',\n",
    "    'jul': '07',\n",
    "    'ago': '08',\n",
    "    'set': '09',\n",
    "    'out': '10',\n",
    "    'nov': '11',\n",
    "    'dez': '12'\n",
    "}\n",
    "\n",
    "df['Month'] = df['Month'].map(month_map)"
   ]
  },
  {
   "cell_type": "code",
   "execution_count": 91,
   "metadata": {},
   "outputs": [],
   "source": [
    "# Combine \"Year\" and \"Month\" columns to create the \"Month\" datetime column\n",
    "df['Month'] = pd.to_datetime(df['Year'].astype(str) + df['Month'], format='%Y%m')\n"
   ]
  },
  {
   "cell_type": "code",
   "execution_count": 92,
   "metadata": {},
   "outputs": [],
   "source": [
    "# Drop the 'Unnamed: 0' and 'Year' columns\n",
    "df.drop(columns=['Unnamed: 0', 'Year'], inplace=True)"
   ]
  },
  {
   "cell_type": "code",
   "execution_count": 93,
   "metadata": {},
   "outputs": [],
   "source": [
    "# Set the \"Month\" column as the DataFrame index\n",
    "df.set_index('Month', inplace=True)\n",
    "\n",
    "# Sort the DataFrame by the datetime index (optional but recommended)\n",
    "df.sort_index(inplace=True)\n"
   ]
  },
  {
   "cell_type": "code",
   "execution_count": 94,
   "metadata": {},
   "outputs": [
    {
     "data": {
      "image/png": "[encoded data removed]",
      "text/plain": [
       "<Figure size 1000x600 with 1 Axes>"
      ]
     },
     "metadata": {},
     "output_type": "display_data"
    }
   ],
   "source": [
    "# Visualize the time series data (optional but useful for understanding the data)\n",
    "plt.figure(figsize=(10, 6))\n",
    "plt.plot(df.index, df['Employed'], label='Employed')\n",
    "plt.xlabel('Month')\n",
    "plt.ylabel('Employed')\n",
    "plt.title('Employment Time Series')\n",
    "plt.legend()\n",
    "plt.grid(True)\n",
    "plt.show()"
   ]
  },
  {
   "cell_type": "code",
   "execution_count": 95,
   "metadata": {},
   "outputs": [],
   "source": [
    "import pandas as pd\n",
    "import matplotlib.pyplot as plt\n",
    "from statsmodels.tsa.statespace.sarimax import SARIMAX\n",
    "import numpy as np\n",
    "\n",
    "# Read the CSV file into a Pandas DataFrame\n",
    "df = pd.read_csv(\"D:/GitHub/us_employment.csv\")\n",
    "\n",
    "# Split the \"Month\" column into \"Year\" and \"Month\" columns\n",
    "df[['Year', 'Month']] = df['Month'].str.split(' ', expand=True)\n",
    "\n",
    "# Convert \"Year\" and \"Month\" columns to integers and strings, respectively\n",
    "df['Year'] = df['Year'].astype(int)\n",
    "df['Month'] = df['Month'].astype(str)\n",
    "\n",
    "# Map the month abbreviations to the corresponding numerical representation\n",
    "month_map = {\n",
    "    'jan': '01',\n",
    "    'fev': '02',\n",
    "    'mar': '03',\n",
    "    'abr': '04',\n",
    "    'mai': '05',\n",
    "    'jun': '06',\n",
    "    'jul': '07',\n",
    "    'ago': '08',\n",
    "    'set': '09',\n",
    "    'out': '10',\n",
    "    'nov': '11',\n",
    "    'dez': '12'\n",
    "}\n",
    "\n",
    "df['Month'] = df['Month'].map(month_map)\n",
    "\n",
    "# Combine \"Year\" and \"Month\" columns to create the \"Month\" datetime column\n",
    "df['Month'] = pd.to_datetime(df['Year'].astype(str) + df['Month'], format='%Y%m')\n",
    "\n",
    "# Drop the 'Unnamed: 0' column\n",
    "df.drop(columns=['Unnamed: 0'], inplace=True)"
   ]
  },
  {
   "cell_type": "code",
   "execution_count": 96,
   "metadata": {},
   "outputs": [],
   "source": [
    "# Fill missing values with forward-fill imputation\n",
    "df['Employed'] = df['Employed'].fillna(method='ffill')"
   ]
  },
  {
   "cell_type": "code",
   "execution_count": 97,
   "metadata": {},
   "outputs": [],
   "source": [
    "# Set the \"Month\" column as the DataFrame index\n",
    "df.set_index('Month', inplace=True)\n",
    "\n",
    "# Sort the DataFrame by the datetime index (optional but recommended)\n",
    "df.sort_index(inplace=True)\n",
    "\n",
    "# Split the data into train and test sets\n",
    "train = df[df['Year'] < 2000]\n",
    "test = df[df['Year'] >= 2000]"
   ]
  },
  {
   "cell_type": "code",
   "execution_count": 98,
   "metadata": {},
   "outputs": [
    {
     "name": "stdout",
     "output_type": "stream",
     "text": [
      "Best ARIMA Order (p, d, q): (5, 1, 0)\n"
     ]
    }
   ],
   "source": [
    "# Find the appropriate ARIMA order using auto_arima\n",
    "model = auto_arima(train['Employed'], seasonal=False, suppress_warnings=True, stepwise=True)\n",
    "\n",
    "# Get the best ARIMA order from the auto_arima result\n",
    "order = model.order\n",
    "\n",
    "# Print the best ARIMA order\n",
    "print(\"Best ARIMA Order (p, d, q):\", order)"
   ]
  },
  {
   "cell_type": "code",
   "execution_count": 109,
   "metadata": {},
   "outputs": [
    {
     "name": "stderr",
     "output_type": "stream",
     "text": [
      "c:\\Users\\Rodrigo\\AppData\\Local\\Programs\\Python\\Python310\\lib\\site-packages\\statsmodels\\tsa\\base\\tsa_model.py:473: ValueWarning: A date index has been provided, but it has no associated frequency information and so will be ignored when e.g. forecasting.\n",
      "  self._init_dates(dates, freq)\n",
      "c:\\Users\\Rodrigo\\AppData\\Local\\Programs\\Python\\Python310\\lib\\site-packages\\statsmodels\\tsa\\base\\tsa_model.py:473: ValueWarning: A date index has been provided, but it has no associated frequency information and so will be ignored when e.g. forecasting.\n",
      "  self._init_dates(dates, freq)\n",
      "c:\\Users\\Rodrigo\\AppData\\Local\\Programs\\Python\\Python310\\lib\\site-packages\\statsmodels\\tsa\\base\\tsa_model.py:473: ValueWarning: A date index has been provided, but it has no associated frequency information and so will be ignored when e.g. forecasting.\n",
      "  self._init_dates(dates, freq)\n"
     ]
    }
   ],
   "source": [
    "# Fit the ARIMA model on the train data with the best order\n",
    "model = ARIMA(train['Employed'], order=(5, 1, 0))\n",
    "results = model.fit()"
   ]
  },
  {
   "cell_type": "code",
   "execution_count": 110,
   "metadata": {},
   "outputs": [
    {
     "name": "stderr",
     "output_type": "stream",
     "text": [
      "c:\\Users\\Rodrigo\\AppData\\Local\\Programs\\Python\\Python310\\lib\\site-packages\\statsmodels\\tsa\\base\\tsa_model.py:836: ValueWarning: No supported index is available. Prediction results will be given with an integer index beginning at `start`.\n",
      "  return get_prediction_index(\n",
      "c:\\Users\\Rodrigo\\AppData\\Local\\Programs\\Python\\Python310\\lib\\site-packages\\statsmodels\\tsa\\base\\tsa_model.py:836: FutureWarning: No supported index is available. In the next version, calling this method in a model without a supported index will result in an exception.\n",
      "  return get_prediction_index(\n"
     ]
    }
   ],
   "source": [
    "# Make predictions for the test data\n",
    "predictions = results.forecast(steps=len(test))\n",
    "predicted_values = predictions.values"
   ]
  },
  {
   "cell_type": "code",
   "execution_count": 111,
   "metadata": {},
   "outputs": [
    {
     "name": "stdout",
     "output_type": "stream",
     "text": [
      "ARIMA MAPE: 8.105420321988174\n"
     ]
    }
   ],
   "source": [
    "from sklearn.metrics import mean_absolute_percentage_error\n",
    "\n",
    "# Calculate MAPE for the ARIMA model\n",
    "mape = mean_absolute_percentage_error(test['Employed'], predicted_values)\n",
    "print(\"ARIMA MAPE:\", mape)\n"
   ]
  }
 ],
 "metadata": {
  "kernelspec": {
   "display_name": "Python 3",
   "language": "python",
   "name": "python3"
  },
  "language_info": {
   "codemirror_mode": {
    "name": "ipython",
    "version": 3
   },
   "file_extension": ".py",
   "mimetype": "text/x-python",
   "name": "python",
   "nbconvert_exporter": "python",
   "pygments_lexer": "ipython3",
   "version": "3.10.7"
  },
  "orig_nbformat": 4
 },
 "nbformat": 4,
 "nbformat_minor": 2
}
